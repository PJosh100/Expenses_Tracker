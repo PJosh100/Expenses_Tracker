{
 "cells": [
  {
   "cell_type": "code",
   "execution_count": 17,
   "id": "98fded4e-9ccc-461c-8bec-9ef320863641",
   "metadata": {},
   "outputs": [],
   "source": [
    "user = \"Nwachukwu Joy\""
   ]
  },
  {
   "cell_type": "code",
   "execution_count": 18,
   "id": "98f736b3-7dad-4694-9c95-da0ae782656f",
   "metadata": {},
   "outputs": [],
   "source": [
    "current_month = \"August 2025\""
   ]
  },
  {
   "cell_type": "code",
   "execution_count": 19,
   "id": "7eb75660-0796-4305-a895-d4a34a4928f4",
   "metadata": {},
   "outputs": [],
   "source": [
    "currency = \"$\"\n",
    "budget = 500"
   ]
  },
  {
   "cell_type": "code",
   "execution_count": 20,
   "id": "9426c4d3-e0fc-4a66-ab2d-360b605efec2",
   "metadata": {},
   "outputs": [],
   "source": [
    "num_days_in_month = 31"
   ]
  },
  {
   "cell_type": "code",
   "execution_count": 21,
   "id": "78644ed6-c195-4a61-86f4-64d338655a33",
   "metadata": {},
   "outputs": [
    {
     "name": "stdout",
     "output_type": "stream",
     "text": [
      "Budget for August 2025 : 500\n"
     ]
    }
   ],
   "source": [
    "print (\"Budget for\", current_month, \":\", budget)"
   ]
  },
  {
   "cell_type": "code",
   "execution_count": 22,
   "id": "61f3f5a5-1c98-4eb4-badd-879055c46266",
   "metadata": {},
   "outputs": [],
   "source": [
    "item = \"Rent\"\n",
    "amount = 200.00\n",
    "category = \"Housing\"\n",
    "is_necessary = True"
   ]
  },
  {
   "cell_type": "code",
   "execution_count": 23,
   "id": "59e738ad-c398-42f5-8e46-a0df0efb1b7e",
   "metadata": {},
   "outputs": [],
   "source": [
    "closing_balance = budget - total_expenses"
   ]
  },
  {
   "cell_type": "code",
   "execution_count": null,
   "id": "7a2fbac5-48a3-4fca-a867-ab949d486b11",
   "metadata": {},
   "outputs": [],
   "source": []
  },
  {
   "cell_type": "code",
   "execution_count": 24,
   "id": "7ebf78d3-d5ec-41d1-9a02-95d5bb09fb62",
   "metadata": {},
   "outputs": [],
   "source": [
    "items = ['Rent', 'Electricity', 'Clothes' , 'Data bundle' ,'KFC' ,'Netflix']\n",
    "prices = [200.00, 40.00,50.00,20,10,15.00]\n",
    "category = ['Housing', 'Utility', 'Basic', 'Utility','Food','Entertainment']\n",
    "necessary = [True,True,True,True,False,False]\n",
    "num_of_items = len(items)"
   ]
  },
  {
   "cell_type": "code",
   "execution_count": 25,
   "id": "6c5a4459-d07a-411e-8b06-821b06aee4e7",
   "metadata": {},
   "outputs": [],
   "source": [
    "total_expenses = sum (prices)"
   ]
  },
  {
   "cell_type": "code",
   "execution_count": null,
   "id": "d74e67b4-3202-4a63-9c12-909535f48023",
   "metadata": {},
   "outputs": [],
   "source": []
  },
  {
   "cell_type": "code",
   "execution_count": 26,
   "id": "9f1fa5f9-5f23-4385-b33c-93e27bfddd30",
   "metadata": {},
   "outputs": [
    {
     "name": "stdout",
     "output_type": "stream",
     "text": [
      "===================================\n",
      "     Espenses Tracker\n",
      "===================================\n",
      "Owner                  Nwachukwu Joy\n",
      "Period                 August 2025\n",
      "-----------------------------------\n",
      "Currency               $\n",
      "Starting Balance       500\n",
      "Total Expenses         335.0\n",
      "-----------------------------------\n",
      "Closing Balance        165.0\n",
      "Transactions           6\n",
      "===================================\n",
      "     See you next month\n"
     ]
    }
   ],
   "source": [
    "print (\"=\" * 35)\n",
    "print (\"     Espenses Tracker\")\n",
    "print (\"=\" * 35)\n",
    "print (\"Owner\", \"                \" ,user)\n",
    "print (\"Period\", \"               \" ,current_month)\n",
    "print (\"-\" *35)\n",
    "print (\"Currency\", \"             \", currency)\n",
    "print (\"Starting Balance\" \"      \", budget)\n",
    "print (\"Total Expenses\", \"       \", total_expenses)\n",
    "print (\"-\" *35)\n",
    "print (\"Closing Balance\", \"      \", closing_balance)\n",
    "print (\"Transactions\", \"         \", num_of_items)\n",
    "print (\"=\" * 35)\n",
    "print (\"     See you next month\")"
   ]
  },
  {
   "cell_type": "code",
   "execution_count": null,
   "id": "0046db64-1f89-43bc-9bc0-f206577ea6da",
   "metadata": {},
   "outputs": [],
   "source": []
  },
  {
   "cell_type": "code",
   "execution_count": null,
   "id": "46d66ad2-2773-4b81-a61b-77c1af1297a6",
   "metadata": {},
   "outputs": [],
   "source": []
  },
  {
   "cell_type": "code",
   "execution_count": null,
   "id": "080571e0-2c18-402d-89cf-534a16b7f507",
   "metadata": {},
   "outputs": [],
   "source": []
  },
  {
   "cell_type": "code",
   "execution_count": null,
   "id": "987df2cb-9760-4ef8-8c78-91bbefee3d83",
   "metadata": {},
   "outputs": [],
   "source": []
  },
  {
   "cell_type": "code",
   "execution_count": null,
   "id": "e1d39d8c-a515-4bdd-bf17-f9c2500e4084",
   "metadata": {},
   "outputs": [],
   "source": []
  },
  {
   "cell_type": "code",
   "execution_count": null,
   "id": "e1509b2f-05d7-44f4-be8a-4a95e32628d9",
   "metadata": {},
   "outputs": [],
   "source": []
  },
  {
   "cell_type": "code",
   "execution_count": null,
   "id": "11037376-bfc1-4581-8ca0-e946547ccd44",
   "metadata": {},
   "outputs": [],
   "source": []
  },
  {
   "cell_type": "code",
   "execution_count": null,
   "id": "3fe21866-1e8c-4d1c-9cdd-3edbe3ddb62e",
   "metadata": {},
   "outputs": [],
   "source": []
  },
  {
   "cell_type": "code",
   "execution_count": null,
   "id": "c74651f6-8fda-4606-a9cf-99c938d52e19",
   "metadata": {},
   "outputs": [],
   "source": []
  },
  {
   "cell_type": "code",
   "execution_count": null,
   "id": "07c29163-a917-41f4-b4c3-2d8cec9c5d8e",
   "metadata": {},
   "outputs": [],
   "source": []
  },
  {
   "cell_type": "code",
   "execution_count": null,
   "id": "8a0ccafa-23f5-40b9-8870-1fc85547fc8f",
   "metadata": {},
   "outputs": [],
   "source": []
  },
  {
   "cell_type": "code",
   "execution_count": null,
   "id": "19ede2ef-6667-4dcb-8ba9-e29690d05643",
   "metadata": {},
   "outputs": [],
   "source": []
  },
  {
   "cell_type": "code",
   "execution_count": null,
   "id": "3f056d3f-caea-4515-828a-99e80fcca37b",
   "metadata": {},
   "outputs": [],
   "source": []
  },
  {
   "cell_type": "code",
   "execution_count": null,
   "id": "8bd9b1db-1917-40ef-9045-7663fe572a1e",
   "metadata": {},
   "outputs": [],
   "source": []
  },
  {
   "cell_type": "code",
   "execution_count": null,
   "id": "49c3578c-05c1-454e-8295-e86b70eccb21",
   "metadata": {},
   "outputs": [],
   "source": []
  },
  {
   "cell_type": "code",
   "execution_count": null,
   "id": "876e4ec6-07d5-41a4-b83c-dbd834bed77f",
   "metadata": {},
   "outputs": [],
   "source": []
  },
  {
   "cell_type": "code",
   "execution_count": null,
   "id": "4a84fcc8-ce41-46ee-bfe0-6d7baf55581d",
   "metadata": {},
   "outputs": [],
   "source": []
  },
  {
   "cell_type": "code",
   "execution_count": null,
   "id": "8072c97b-4fd1-4aeb-83bb-6bcc33ac698f",
   "metadata": {},
   "outputs": [],
   "source": []
  },
  {
   "cell_type": "code",
   "execution_count": null,
   "id": "f7f69697-0b68-4664-ba22-45ca8f6812ee",
   "metadata": {},
   "outputs": [],
   "source": []
  },
  {
   "cell_type": "code",
   "execution_count": null,
   "id": "2199d9e4-449a-4217-a54a-c28993f6a645",
   "metadata": {},
   "outputs": [],
   "source": []
  }
 ],
 "metadata": {
  "kernelspec": {
   "display_name": "Python 3 (ipykernel)",
   "language": "python",
   "name": "python3"
  },
  "language_info": {
   "codemirror_mode": {
    "name": "ipython",
    "version": 3
   },
   "file_extension": ".py",
   "mimetype": "text/x-python",
   "name": "python",
   "nbconvert_exporter": "python",
   "pygments_lexer": "ipython3",
   "version": "3.12.11"
  }
 },
 "nbformat": 4,
 "nbformat_minor": 5
}
